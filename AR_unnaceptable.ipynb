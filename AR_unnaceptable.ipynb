{
 "cells": [
  {
   "cell_type": "code",
   "execution_count": 205,
   "metadata": {},
   "outputs": [],
   "source": [
    "#df_final['ur'] = df_final['ur'].apply(lambda x: (x.strip('%'))).apply(lambda x: float(x))\n"
   ]
  },
  {
   "cell_type": "code",
   "execution_count": 193,
   "metadata": {},
   "outputs": [],
   "source": [
    "import pandas as pd\n",
    "import numpy as np\n",
    "import datetime\n",
    "import seaborn as sns\n",
    "import matplotlib.pyplot as plt\n",
    "import warnings\n",
    "\n",
    "from datetime import datetime\n",
    "from datetime import date\n",
    "from datetime import timedelta\n",
    "\n",
    "pd.set_option('display.max_columns', None)\n",
    "warnings.filterwarnings('ignore')"
   ]
  },
  {
   "cell_type": "code",
   "execution_count": 194,
   "metadata": {},
   "outputs": [],
   "source": [
    "def correct_slot(row):\n",
    "    if (row.pa_hour <= 9):\n",
    "        var = row.pa_slot.split(\"-\")\n",
    "        return (\"0\" + var[0] + \"-\" + \"0\" + var[1])\n",
    "    return (row.pa_slot)\n",
    "\n",
    "def generate_intersections(df_filter, df_final, country):\n",
    "\n",
    "    rows = {'products': [], 'percentage_of_a': [], 'percentage_of_b_empty': []}\n",
    "\n",
    "    df_final = df_final[df_final.country == country]\n",
    "    df_filter = df_filter[df_filter.country == country]\n",
    "\n",
    "    for i in range(1, 31):\n",
    "        df_b = df_final[df_final.products <= i].merge(df_filter,  how='left', on='order_id') # Estan en B\n",
    "        df_b = df_b[df_b.country_y.isnull()] # Estan en B pero no en A\n",
    "        \n",
    "        rows['products'].append(i)\n",
    "        rows['percentage_of_a'].append(len(df_filter.merge(df_final[df_final.products <= i], on='order_id', how='inner'))/len(df_filter))\n",
    "        rows['percentage_of_b_empty'].append(len(df_b)/len(df_final))\n",
    "\n",
    "    df_testing = pd.DataFrame(rows)\n",
    "\n",
    "    df_testing['diff1'] = df_testing['percentage_of_a']/df_testing['percentage_of_b_empty']\n",
    "    df_testing['diff2'] = df_testing['diff1'] - df_testing['diff1'].shift()\n",
    "    df_testing['diff3'] = df_testing['percentage_of_a'] - df_testing['percentage_of_b_empty']\n",
    "\n",
    "    return df_testing\n"
   ]
  },
  {
   "cell_type": "code",
   "execution_count": 195,
   "metadata": {},
   "outputs": [],
   "source": [
    "ur = pd.read_csv('./data/ur_world.csv')\n",
    "param = pd.read_csv('./data/dispatcher_time_assignation.csv')\n",
    "orders = pd.read_csv('./data/orders_info.csv')\n",
    "orders_id = pd.read_csv('./data/orders_id.csv')\n",
    "\n",
    "looker_info = pd.read_csv('./data/looker_orders_lw.csv')"
   ]
  },
  {
   "cell_type": "code",
   "execution_count": 196,
   "metadata": {},
   "outputs": [],
   "source": [
    "looker_info = looker_info.rename(columns = {\n",
    "    'Order Information Country': 'country',\n",
    "    'Order Information Order ID': 'order_id',\n",
    "    'Order Information Picking Type': 'picking_type',\n",
    "    'Order Information On Demand? (Yes / No)': 'on_demand',\n",
    "    'Order Information On Demand ASAP? (Yes / No)': 'asap',\n",
    "    'Order Information Qty Products Ordered': 'products',\n",
    "    'Order Information Promised Minutes': 'promised_min'\n",
    "})\n",
    "\n",
    "ur = ur.rename(columns={\n",
    "    'Dates & Times Slot Interval': 'slot_interval',\n",
    "    'Dates & Times Start Slot Time': 'start_slot',\n",
    "    'Geo Information Country ID': 'country',\n",
    "    'Geo Information City Code': 'city_code',\n",
    "    'Geo Information Zone Name': 'zone',\n",
    "    'Capacity Metrics Utilization Rate': 'ur',\n",
    "    'Dates & Times Local Time Date': 'date'\n",
    "})"
   ]
  },
  {
   "cell_type": "code",
   "execution_count": 197,
   "metadata": {},
   "outputs": [],
   "source": [
    "ur['ur'] = ur['ur'].str.replace('%', '').astype(float)\n",
    "ur['key'] = ur['date'].astype(str) + \"-\" + ur['zone'].astype(str) + \"-\" + ur['slot_interval'].astype(str)\n",
    "\n",
    "orders['picking_assignable_time'] = pd.to_datetime(orders['picking_assignable_time'])\n",
    "orders['first_assignation'] = pd.to_datetime(orders['first_assignation'])\n",
    "orders['last_assignation'] = pd.to_datetime(orders['last_assignation'])\n",
    "orders['picking_assignable_time_v2'] = orders['picking_assignable_time'].dt.round('T')\n",
    "orders['assignable_time'] = ( orders['last_assignation'] - orders['picking_assignable_time'] ) / pd.Timedelta(minutes=1)\n",
    "orders['picking_assignable_time_v2'] = orders['picking_assignable_time'].dt.round('T')\n",
    "orders['pa_hour'] = orders.picking_assignable_time_v2.dt.hour\n",
    "orders['pa_min'] = orders.picking_assignable_time_v2.dt.minute\n"
   ]
  },
  {
   "cell_type": "code",
   "execution_count": 198,
   "metadata": {},
   "outputs": [],
   "source": [
    "conditions = [\n",
    "    orders.picking_assignable_time_v2.dt.minute <= 19,\n",
    "    (orders.picking_assignable_time_v2.dt.minute >= 20) & (orders.picking_assignable_time_v2.dt.minute <= 39),\n",
    "    orders.picking_assignable_time_v2.dt.minute >= 40 \n",
    "    ]\n",
    "\n",
    "choices = [orders['pa_hour'].astype(str) + \":00\" + \":00-\" + orders['pa_hour'].astype(str) + \":19:59\",\n",
    "           orders['pa_hour'].astype(str) + \":20\" + \":00-\" + orders['pa_hour'].astype(str) + \":39:59\",\n",
    "           orders['pa_hour'].astype(str) + \":40\" + \":00-\" + orders['pa_hour'].astype(str) + \":59:59\"]\n",
    "\n",
    "orders['pa_slot'] = np.select(conditions, choices, default='black')\n",
    "orders['pa_slot'] = orders.apply(correct_slot,axis = 1)\n",
    "orders['key'] = orders['picking_assignable_time'].dt.date.astype(str) + \"-\" + orders['zone'].astype(str) + \"-\" + orders['pa_slot'].astype(str)\n"
   ]
  },
  {
   "cell_type": "code",
   "execution_count": 199,
   "metadata": {},
   "outputs": [],
   "source": [
    "df = pd.merge(orders,ur[['key','ur']], left_on = 'key', right_on = 'key')"
   ]
  },
  {
   "cell_type": "code",
   "execution_count": 200,
   "metadata": {},
   "outputs": [],
   "source": [
    "param['half_assignation'] = param['parameters']/2\n",
    "df_final = pd.merge(df,param[['zona','half_assignation']], left_on = 'zone', right_on = 'zona',how = 'left')"
   ]
  },
  {
   "cell_type": "code",
   "execution_count": 203,
   "metadata": {},
   "outputs": [],
   "source": [
    "# Aca defino al grupo que queremos atacar en base a UR, TFA, Rejections\n",
    "df_filter = df_final[(df_final.rejected >= 1) & (df_final.ur <= 75) & (df_final.time_before_first_assignation <= 5)]"
   ]
  },
  {
   "cell_type": "code",
   "execution_count": 206,
   "metadata": {},
   "outputs": [
    {
     "data": {
      "text/plain": "0.15670651928716445"
     },
     "execution_count": 206,
     "metadata": {},
     "output_type": "execute_result"
    }
   ],
   "source": [
    "len(df_filter)/len(df_final)"
   ]
  },
  {
   "cell_type": "code",
   "execution_count": 182,
   "metadata": {},
   "outputs": [
    {
     "data": {
      "text/plain": "<AxesSubplot:xlabel='products'>"
     },
     "execution_count": 182,
     "metadata": {},
     "output_type": "execute_result"
    },
    {
     "data": {
      "image/png": "[encoded data removed]",
      "text/plain": "<Figure size 2160x432 with 3 Axes>"
     },
     "metadata": {
      "needs_background": "light"
     },
     "output_type": "display_data"
    }
   ],
   "source": [
    "fig, axes = plt.subplots(1, 3, figsize=(30, 6))\n",
    "\n",
    "sns.boxplot(ax=axes[0], data=df_filter, x='ur')\n",
    "sns.boxplot(ax=axes[1], data=df_filter, x='rejected')\n",
    "sns.boxplot(ax=axes[2], data=df_filter, x='products')\n"
   ]
  },
  {
   "cell_type": "code",
   "execution_count": 184,
   "metadata": {},
   "outputs": [],
   "source": [
    "rows = {'products': [], 'percentage_of_a': [], 'percentage_of_b_empty': []}\n",
    "\n",
    "\n",
    "\n",
    "# Porcentaje de ordenes que estan en Grupo A y B\n",
    "# Porcentaje de ordenes solo B\n",
    "for i in range(1, 21):\n",
    "    df_b = df_final[df_final.products <= i].merge(df_filter,  how='left', on='order_id') # Estan en B\n",
    "    df_b = df_b[df_b.country_y.isnull()] # Estan en B pero no en A\n",
    "    \n",
    "    rows['products'].append(i)\n",
    "    rows['percentage_of_a'].append(len(df_filter.merge(df_final[df_final.products <= i], on='order_id', how='inner'))/len(df_filter))\n",
    "    rows['percentage_of_b_empty'].append(len(df_b)/len(df_final))\n",
    "\n",
    "df_testing = pd.DataFrame(rows)\n",
    "\n",
    "df_testing['diff'] = df_testing['percentage_of_a']/df_testing['percentage_of_b_empty']\n",
    "df_testing['diff2'] = df_testing['percentage_of_a'] - df_testing['percentage_of_b_empty']\n",
    "df_testing['diff3'] = df_testing['diff'] - df_testing['diff'].shift()\n"
   ]
  },
  {
   "cell_type": "code",
   "execution_count": 186,
   "metadata": {},
   "outputs": [
    {
     "data": {
      "text/html": "<div>\n<style scoped>\n    .dataframe tbody tr th:only-of-type {\n        vertical-align: middle;\n    }\n\n    .dataframe tbody tr th {\n        vertical-align: top;\n    }\n\n    .dataframe thead th {\n        text-align: right;\n    }\n</style>\n<table border=\"1\" class=\"dataframe\">\n  <thead>\n    <tr style=\"text-align: right;\">\n      <th></th>\n      <th>products</th>\n      <th>percentage_of_a</th>\n      <th>percentage_of_b_empty</th>\n      <th>diff</th>\n      <th>diff2</th>\n      <th>diff3</th>\n    </tr>\n  </thead>\n  <tbody>\n    <tr>\n      <th>0</th>\n      <td>1</td>\n      <td>0.133824</td>\n      <td>0.114309</td>\n      <td>1.170716</td>\n      <td>0.019514</td>\n      <td>NaN</td>\n    </tr>\n    <tr>\n      <th>1</th>\n      <td>2</td>\n      <td>0.232171</td>\n      <td>0.187798</td>\n      <td>1.236282</td>\n      <td>0.044373</td>\n      <td>0.065566</td>\n    </tr>\n    <tr>\n      <th>2</th>\n      <td>3</td>\n      <td>0.314859</td>\n      <td>0.243212</td>\n      <td>1.294586</td>\n      <td>0.071647</td>\n      <td>0.058304</td>\n    </tr>\n    <tr>\n      <th>3</th>\n      <td>4</td>\n      <td>0.388883</td>\n      <td>0.289125</td>\n      <td>1.345031</td>\n      <td>0.099757</td>\n      <td>0.050445</td>\n    </tr>\n    <tr>\n      <th>4</th>\n      <td>5</td>\n      <td>0.451680</td>\n      <td>0.328286</td>\n      <td>1.375873</td>\n      <td>0.123394</td>\n      <td>0.030842</td>\n    </tr>\n    <tr>\n      <th>5</th>\n      <td>6</td>\n      <td>0.509755</td>\n      <td>0.364530</td>\n      <td>1.398390</td>\n      <td>0.145225</td>\n      <td>0.022517</td>\n    </tr>\n    <tr>\n      <th>6</th>\n      <td>7</td>\n      <td>0.562325</td>\n      <td>0.397299</td>\n      <td>1.415370</td>\n      <td>0.165026</td>\n      <td>0.016980</td>\n    </tr>\n    <tr>\n      <th>7</th>\n      <td>8</td>\n      <td>0.614514</td>\n      <td>0.429807</td>\n      <td>1.429745</td>\n      <td>0.184707</td>\n      <td>0.014375</td>\n    </tr>\n    <tr>\n      <th>8</th>\n      <td>9</td>\n      <td>0.661980</td>\n      <td>0.460603</td>\n      <td>1.437203</td>\n      <td>0.201377</td>\n      <td>0.007458</td>\n    </tr>\n    <tr>\n      <th>9</th>\n      <td>10</td>\n      <td>0.705177</td>\n      <td>0.488921</td>\n      <td>1.442313</td>\n      <td>0.216256</td>\n      <td>0.005110</td>\n    </tr>\n    <tr>\n      <th>10</th>\n      <td>11</td>\n      <td>0.743233</td>\n      <td>0.514830</td>\n      <td>1.443649</td>\n      <td>0.228404</td>\n      <td>0.001336</td>\n    </tr>\n    <tr>\n      <th>11</th>\n      <td>12</td>\n      <td>0.776712</td>\n      <td>0.539734</td>\n      <td>1.439065</td>\n      <td>0.236978</td>\n      <td>-0.004584</td>\n    </tr>\n    <tr>\n      <th>12</th>\n      <td>13</td>\n      <td>0.807575</td>\n      <td>0.562662</td>\n      <td>1.435276</td>\n      <td>0.244913</td>\n      <td>-0.003789</td>\n    </tr>\n    <tr>\n      <th>13</th>\n      <td>14</td>\n      <td>0.834005</td>\n      <td>0.583924</td>\n      <td>1.428278</td>\n      <td>0.250082</td>\n      <td>-0.006997</td>\n    </tr>\n    <tr>\n      <th>14</th>\n      <td>15</td>\n      <td>0.856494</td>\n      <td>0.603426</td>\n      <td>1.419386</td>\n      <td>0.253068</td>\n      <td>-0.008892</td>\n    </tr>\n    <tr>\n      <th>15</th>\n      <td>16</td>\n      <td>0.876349</td>\n      <td>0.621815</td>\n      <td>1.409340</td>\n      <td>0.254534</td>\n      <td>-0.010046</td>\n    </tr>\n    <tr>\n      <th>16</th>\n      <td>17</td>\n      <td>0.893460</td>\n      <td>0.638586</td>\n      <td>1.399122</td>\n      <td>0.254874</td>\n      <td>-0.010217</td>\n    </tr>\n    <tr>\n      <th>17</th>\n      <td>18</td>\n      <td>0.909064</td>\n      <td>0.653944</td>\n      <td>1.390126</td>\n      <td>0.255121</td>\n      <td>-0.008996</td>\n    </tr>\n    <tr>\n      <th>18</th>\n      <td>19</td>\n      <td>0.921562</td>\n      <td>0.668171</td>\n      <td>1.379232</td>\n      <td>0.253392</td>\n      <td>-0.010894</td>\n    </tr>\n    <tr>\n      <th>19</th>\n      <td>20</td>\n      <td>0.932098</td>\n      <td>0.681149</td>\n      <td>1.368420</td>\n      <td>0.250949</td>\n      <td>-0.010812</td>\n    </tr>\n  </tbody>\n</table>\n</div>",
      "text/plain": "    products  percentage_of_a  percentage_of_b_empty      diff     diff2  \\\n0          1         0.133824               0.114309  1.170716  0.019514   \n1          2         0.232171               0.187798  1.236282  0.044373   \n2          3         0.314859               0.243212  1.294586  0.071647   \n3          4         0.388883               0.289125  1.345031  0.099757   \n4          5         0.451680               0.328286  1.375873  0.123394   \n5          6         0.509755               0.364530  1.398390  0.145225   \n6          7         0.562325               0.397299  1.415370  0.165026   \n7          8         0.614514               0.429807  1.429745  0.184707   \n8          9         0.661980               0.460603  1.437203  0.201377   \n9         10         0.705177               0.488921  1.442313  0.216256   \n10        11         0.743233               0.514830  1.443649  0.228404   \n11        12         0.776712               0.539734  1.439065  0.236978   \n12        13         0.807575               0.562662  1.435276  0.244913   \n13        14         0.834005               0.583924  1.428278  0.250082   \n14        15         0.856494               0.603426  1.419386  0.253068   \n15        16         0.876349               0.621815  1.409340  0.254534   \n16        17         0.893460               0.638586  1.399122  0.254874   \n17        18         0.909064               0.653944  1.390126  0.255121   \n18        19         0.921562               0.668171  1.379232  0.253392   \n19        20         0.932098               0.681149  1.368420  0.250949   \n\n       diff3  \n0        NaN  \n1   0.065566  \n2   0.058304  \n3   0.050445  \n4   0.030842  \n5   0.022517  \n6   0.016980  \n7   0.014375  \n8   0.007458  \n9   0.005110  \n10  0.001336  \n11 -0.004584  \n12 -0.003789  \n13 -0.006997  \n14 -0.008892  \n15 -0.010046  \n16 -0.010217  \n17 -0.008996  \n18 -0.010894  \n19 -0.010812  "
     },
     "execution_count": 186,
     "metadata": {},
     "output_type": "execute_result"
    }
   ],
   "source": [
    "df_testing"
   ]
  },
  {
   "cell_type": "code",
   "execution_count": 166,
   "metadata": {},
   "outputs": [
    {
     "data": {
      "text/plain": "[<matplotlib.lines.Line2D at 0x7fd4684d0e80>]"
     },
     "execution_count": 166,
     "metadata": {},
     "output_type": "execute_result"
    },
    {
     "data": {
      "image/png": "[encoded data removed]",
      "text/plain": "<Figure size 432x288 with 1 Axes>"
     },
     "metadata": {
      "needs_background": "light"
     },
     "output_type": "display_data"
    }
   ],
   "source": [
    "plt.plot(df_testing['products'], df_testing['percentage_of_a'])\n",
    "plt.plot(df_testing['products'], df_testing['percentage_of_b_empty'])\n",
    "plt.plot(df_testing['products'], df_testing['diff'])"
   ]
  },
  {
   "cell_type": "markdown",
   "metadata": {},
   "source": [
    "BR"
   ]
  },
  {
   "cell_type": "code",
   "execution_count": 23,
   "metadata": {},
   "outputs": [],
   "source": [
    "br_filter = df_filter[df_filter.country == 'BR']\n",
    "br_total = df_final[df_final.country == 'BR']"
   ]
  },
  {
   "cell_type": "code",
   "execution_count": 114,
   "metadata": {},
   "outputs": [
    {
     "name": "stdout",
     "output_type": "stream",
     "text": [
      "<class 'pandas.core.frame.DataFrame'>\n",
      "Int64Index: 79927 entries, 20 to 464297\n",
      "Data columns (total 7 columns):\n",
      " #   Column        Non-Null Count  Dtype  \n",
      "---  ------        --------------  -----  \n",
      " 0   country       79927 non-null  object \n",
      " 1   order_id      79927 non-null  int64  \n",
      " 2   picking_type  79926 non-null  object \n",
      " 3   on_demand     79927 non-null  object \n",
      " 4   asap          79927 non-null  object \n",
      " 5   products      79927 non-null  int64  \n",
      " 6   promised_min  79926 non-null  float64\n",
      "dtypes: float64(1), int64(2), object(4)\n",
      "memory usage: 4.9+ MB\n"
     ]
    }
   ],
   "source": [
    "looker_br = looker_info[looker_info.country == 'BR']\n",
    "looker_br.info()"
   ]
  },
  {
   "cell_type": "code",
   "execution_count": 117,
   "metadata": {},
   "outputs": [],
   "source": [
    "br_filter = pd.merge(br_filter,looker_br[['order_id','picking_type','on_demand','asap','promised_min']], left_on = 'order_id', right_on = 'order_id')"
   ]
  },
  {
   "cell_type": "code",
   "execution_count": 118,
   "metadata": {},
   "outputs": [
    {
     "data": {
      "text/plain": [
       "0.4115368609750632"
      ]
     },
     "execution_count": 118,
     "metadata": {},
     "output_type": "execute_result"
    }
   ],
   "source": [
    "len(br_filter)/ len(br_total)"
   ]
  },
  {
   "cell_type": "code",
   "execution_count": 119,
   "metadata": {},
   "outputs": [
    {
     "data": {
      "text/plain": [
       "count    25712.000000\n",
       "mean         8.748211\n",
       "std          8.076936\n",
       "min          1.000000\n",
       "25%          3.000000\n",
       "50%          7.000000\n",
       "75%         12.000000\n",
       "max         99.000000\n",
       "Name: products, dtype: float64"
      ]
     },
     "execution_count": 119,
     "metadata": {},
     "output_type": "execute_result"
    }
   ],
   "source": [
    "br_filter['products'].describe()"
   ]
  },
  {
   "cell_type": "code",
   "execution_count": 120,
   "metadata": {},
   "outputs": [
    {
     "data": {
      "text/plain": [
       "<AxesSubplot:>"
      ]
     },
     "execution_count": 120,
     "metadata": {},
     "output_type": "execute_result"
    },
    {
     "data": {
      "image/png": "[encoded data removed]",
      "text/plain": [
       "<Figure size 432x288 with 1 Axes>"
      ]
     },
     "metadata": {
      "needs_background": "light"
     },
     "output_type": "display_data"
    }
   ],
   "source": [
    "br_filter[br_filter.products <= 50]['products'].hist(bins = 20)"
   ]
  },
  {
   "cell_type": "code",
   "execution_count": 121,
   "metadata": {},
   "outputs": [
    {
     "name": "stdout",
     "output_type": "stream",
     "text": [
      "<class 'pandas.core.frame.DataFrame'>\n",
      "Int64Index: 25712 entries, 0 to 25711\n",
      "Data columns (total 27 columns):\n",
      " #   Column                         Non-Null Count  Dtype         \n",
      "---  ------                         --------------  -----         \n",
      " 0   order_id                       25712 non-null  int64         \n",
      " 1   country                        25712 non-null  object        \n",
      " 2   city                           25712 non-null  object        \n",
      " 3   zone                           25712 non-null  object        \n",
      " 4   products                       25712 non-null  int64         \n",
      " 5   rejected                       25712 non-null  int64         \n",
      " 6   rejected_expired               25712 non-null  int64         \n",
      " 7   assignations                   25712 non-null  int64         \n",
      " 8   lateness                       25712 non-null  float64       \n",
      " 9   delivery_result                25712 non-null  object        \n",
      " 10  picking_assignable_time        25712 non-null  datetime64[ns]\n",
      " 11  first_assignation              25712 non-null  datetime64[ns]\n",
      " 12  last_assignation               25712 non-null  datetime64[ns]\n",
      " 13  time_before_first_assignation  25712 non-null  float64       \n",
      " 14  picking_assignable_time_v2     25712 non-null  datetime64[ns]\n",
      " 15  assignable_time                25712 non-null  float64       \n",
      " 16  pa_hour                        25712 non-null  int64         \n",
      " 17  pa_min                         25712 non-null  int64         \n",
      " 18  pa_slot                        25712 non-null  object        \n",
      " 19  key                            25712 non-null  object        \n",
      " 20  ur                             25712 non-null  float64       \n",
      " 21  zona                           25712 non-null  object        \n",
      " 22  half_assignation               25712 non-null  float64       \n",
      " 23  picking_type                   25711 non-null  object        \n",
      " 24  on_demand                      25712 non-null  object        \n",
      " 25  asap                           25712 non-null  object        \n",
      " 26  promised_min                   25711 non-null  float64       \n",
      "dtypes: datetime64[ns](4), float64(6), int64(7), object(10)\n",
      "memory usage: 5.5+ MB\n"
     ]
    }
   ],
   "source": [
    "br_filter.info()"
   ]
  },
  {
   "cell_type": "code",
   "execution_count": 122,
   "metadata": {},
   "outputs": [
    {
     "data": {
      "text/plain": [
       "<seaborn.axisgrid.JointGrid at 0x7fb174127250>"
      ]
     },
     "execution_count": 122,
     "metadata": {},
     "output_type": "execute_result"
    },
    {
     "data": {
      "image/png": "[encoded data removed]",
      "text/plain": [
       "<Figure size 432x432 with 3 Axes>"
      ]
     },
     "metadata": {
      "needs_background": "light"
     },
     "output_type": "display_data"
    }
   ],
   "source": [
    "sns.jointplot(data = br_filter[br_filter.products <= 50], x = 'products', y = 'assignable_time'\n",
    "             ,kind = 'hex')"
   ]
  },
  {
   "cell_type": "code",
   "execution_count": 123,
   "metadata": {},
   "outputs": [
    {
     "data": {
      "text/plain": [
       "<AxesSubplot:xlabel='products'>"
      ]
     },
     "execution_count": 123,
     "metadata": {},
     "output_type": "execute_result"
    },
    {
     "data": {
      "image/png": "[encoded data removed]",
      "text/plain": [
       "<Figure size 432x288 with 1 Axes>"
      ]
     },
     "metadata": {
      "needs_background": "light"
     },
     "output_type": "display_data"
    }
   ],
   "source": [
    "pd.pivot_table(data = br_filter[br_filter.products <= 50]\n",
    "               , index = 'products'\n",
    "               , columns = 'delivery_result'\n",
    "               , values = 'order_id'\n",
    "               , aggfunc = 'count').plot()"
   ]
  },
  {
   "cell_type": "code",
   "execution_count": 124,
   "metadata": {},
   "outputs": [
    {
     "data": {
      "text/html": [
       "<div>\n",
       "<style scoped>\n",
       "    .dataframe tbody tr th:only-of-type {\n",
       "        vertical-align: middle;\n",
       "    }\n",
       "\n",
       "    .dataframe tbody tr th {\n",
       "        vertical-align: top;\n",
       "    }\n",
       "\n",
       "    .dataframe thead th {\n",
       "        text-align: right;\n",
       "    }\n",
       "</style>\n",
       "<table border=\"1\" class=\"dataframe\">\n",
       "  <thead>\n",
       "    <tr style=\"text-align: right;\">\n",
       "      <th>delivery_result</th>\n",
       "      <th>products</th>\n",
       "      <th>Early</th>\n",
       "      <th>Late</th>\n",
       "      <th>On-Time</th>\n",
       "    </tr>\n",
       "  </thead>\n",
       "  <tbody>\n",
       "    <tr>\n",
       "      <th>0</th>\n",
       "      <td>1</td>\n",
       "      <td>10.224163</td>\n",
       "      <td>31.099682</td>\n",
       "      <td>12.657044</td>\n",
       "    </tr>\n",
       "    <tr>\n",
       "      <th>1</th>\n",
       "      <td>2</td>\n",
       "      <td>11.503350</td>\n",
       "      <td>29.560458</td>\n",
       "      <td>12.636857</td>\n",
       "    </tr>\n",
       "    <tr>\n",
       "      <th>2</th>\n",
       "      <td>3</td>\n",
       "      <td>7.090661</td>\n",
       "      <td>30.319856</td>\n",
       "      <td>12.024903</td>\n",
       "    </tr>\n",
       "    <tr>\n",
       "      <th>3</th>\n",
       "      <td>4</td>\n",
       "      <td>10.981607</td>\n",
       "      <td>31.735710</td>\n",
       "      <td>12.383820</td>\n",
       "    </tr>\n",
       "    <tr>\n",
       "      <th>4</th>\n",
       "      <td>5</td>\n",
       "      <td>9.059806</td>\n",
       "      <td>30.730846</td>\n",
       "      <td>12.088325</td>\n",
       "    </tr>\n",
       "    <tr>\n",
       "      <th>...</th>\n",
       "      <td>...</td>\n",
       "      <td>...</td>\n",
       "      <td>...</td>\n",
       "      <td>...</td>\n",
       "    </tr>\n",
       "    <tr>\n",
       "      <th>70</th>\n",
       "      <td>75</td>\n",
       "      <td>0.000000</td>\n",
       "      <td>0.000000</td>\n",
       "      <td>3.983620</td>\n",
       "    </tr>\n",
       "    <tr>\n",
       "      <th>71</th>\n",
       "      <td>80</td>\n",
       "      <td>10.680519</td>\n",
       "      <td>0.000000</td>\n",
       "      <td>0.000000</td>\n",
       "    </tr>\n",
       "    <tr>\n",
       "      <th>72</th>\n",
       "      <td>81</td>\n",
       "      <td>0.000000</td>\n",
       "      <td>5.080603</td>\n",
       "      <td>0.000000</td>\n",
       "    </tr>\n",
       "    <tr>\n",
       "      <th>73</th>\n",
       "      <td>84</td>\n",
       "      <td>0.000000</td>\n",
       "      <td>0.000000</td>\n",
       "      <td>6.457836</td>\n",
       "    </tr>\n",
       "    <tr>\n",
       "      <th>74</th>\n",
       "      <td>99</td>\n",
       "      <td>0.000000</td>\n",
       "      <td>0.000000</td>\n",
       "      <td>5.797882</td>\n",
       "    </tr>\n",
       "  </tbody>\n",
       "</table>\n",
       "<p>75 rows × 4 columns</p>\n",
       "</div>"
      ],
      "text/plain": [
       "delivery_result  products      Early       Late    On-Time\n",
       "0                       1  10.224163  31.099682  12.657044\n",
       "1                       2  11.503350  29.560458  12.636857\n",
       "2                       3   7.090661  30.319856  12.024903\n",
       "3                       4  10.981607  31.735710  12.383820\n",
       "4                       5   9.059806  30.730846  12.088325\n",
       "..                    ...        ...        ...        ...\n",
       "70                     75   0.000000   0.000000   3.983620\n",
       "71                     80  10.680519   0.000000   0.000000\n",
       "72                     81   0.000000   5.080603   0.000000\n",
       "73                     84   0.000000   0.000000   6.457836\n",
       "74                     99   0.000000   0.000000   5.797882\n",
       "\n",
       "[75 rows x 4 columns]"
      ]
     },
     "execution_count": 124,
     "metadata": {},
     "output_type": "execute_result"
    }
   ],
   "source": [
    "at = pd.pivot_table(data = br_filter\n",
    "               , index = 'products'\n",
    "               , columns = 'delivery_result'\n",
    "               , values = 'assignable_time'\n",
    "               , aggfunc = np.mean).reset_index().fillna(0)\n",
    "at"
   ]
  },
  {
   "cell_type": "code",
   "execution_count": 125,
   "metadata": {},
   "outputs": [
    {
     "data": {
      "image/png": "[encoded data removed]",
      "text/plain": [
       "<Figure size 864x432 with 1 Axes>"
      ]
     },
     "metadata": {
      "needs_background": "light"
     },
     "output_type": "display_data"
    }
   ],
   "source": [
    "plt.figure(figsize=(12,6))\n",
    "\n",
    "at_plot = at[at.products <= 50]\n",
    "\n",
    "plt.scatter(at_plot['products'],at_plot['Early'], label = 'Early', color = 'b')\n",
    "plt.scatter(at_plot['products'],at_plot['On-Time'], label = 'On-Time', color = 'g')\n",
    "plt.scatter(at_plot['products'],at_plot['Late'], label = 'Late', color = 'r')\n",
    "\n",
    "plt.xlabel('products')\n",
    "plt.ylabel('assignable_time')\n",
    "\n",
    "plt.legend()\n",
    "\n",
    "plt.show()"
   ]
  },
  {
   "cell_type": "code",
   "execution_count": 138,
   "metadata": {},
   "outputs": [],
   "source": [
    "assign = pd.pivot_table(\n",
    "                data = br_filter\n",
    "               , index = 'assignations'\n",
    "               , columns = 'delivery_result'\n",
    "               , values = 'assignable_time'\n",
    "               , aggfunc = np.mean).reset_index().fillna(0)"
   ]
  },
  {
   "cell_type": "code",
   "execution_count": 139,
   "metadata": {},
   "outputs": [
    {
     "data": {
      "text/plain": [
       "<AxesSubplot:xlabel='assignations'>"
      ]
     },
     "execution_count": 139,
     "metadata": {},
     "output_type": "execute_result"
    },
    {
     "data": {
      "image/png": "[encoded data removed]",
      "text/plain": [
       "<Figure size 432x288 with 1 Axes>"
      ]
     },
     "metadata": {
      "needs_background": "light"
     },
     "output_type": "display_data"
    }
   ],
   "source": [
    "pd.pivot_table(data = br_filter\n",
    "               , index = 'assignations'\n",
    "               , columns = 'delivery_result'\n",
    "               , values = 'order_id'\n",
    "               , aggfunc = 'count').plot(kind = 'line')"
   ]
  },
  {
   "cell_type": "code",
   "execution_count": 140,
   "metadata": {},
   "outputs": [
    {
     "data": {
      "image/png": "[encoded data removed]",
      "text/plain": [
       "<Figure size 864x432 with 1 Axes>"
      ]
     },
     "metadata": {
      "needs_background": "light"
     },
     "output_type": "display_data"
    }
   ],
   "source": [
    "plt.figure(figsize=(12,6))\n",
    "\n",
    "assign_plot = assign[assign.assignations <= 20000]\n",
    "\n",
    "plt.scatter(assign_plot['assignations'],assign_plot['Early'], label = 'Early', color = 'b')\n",
    "plt.scatter(assign_plot['assignations'],assign_plot['On-Time'], label = 'On-Time', color = 'g')\n",
    "plt.scatter(assign_plot['assignations'],assign_plot['Late'], label = 'Late', color = 'r')\n",
    "\n",
    "plt.xlabel('assignations')\n",
    "plt.ylabel('assignable_time')\n",
    "\n",
    "plt.legend()\n",
    "\n",
    "plt.show()"
   ]
  },
  {
   "cell_type": "code",
   "execution_count": 141,
   "metadata": {},
   "outputs": [
    {
     "name": "stdout",
     "output_type": "stream",
     "text": [
      "<class 'pandas.core.frame.DataFrame'>\n",
      "Int64Index: 25098 entries, 0 to 25711\n",
      "Data columns (total 27 columns):\n",
      " #   Column                         Non-Null Count  Dtype         \n",
      "---  ------                         --------------  -----         \n",
      " 0   order_id                       25098 non-null  int64         \n",
      " 1   country                        25098 non-null  object        \n",
      " 2   city                           25098 non-null  object        \n",
      " 3   zone                           25098 non-null  object        \n",
      " 4   products                       25098 non-null  int64         \n",
      " 5   rejected                       25098 non-null  int64         \n",
      " 6   rejected_expired               25098 non-null  int64         \n",
      " 7   assignations                   25098 non-null  int64         \n",
      " 8   lateness                       25098 non-null  float64       \n",
      " 9   delivery_result                25098 non-null  object        \n",
      " 10  picking_assignable_time        25098 non-null  datetime64[ns]\n",
      " 11  first_assignation              25098 non-null  datetime64[ns]\n",
      " 12  last_assignation               25098 non-null  datetime64[ns]\n",
      " 13  time_before_first_assignation  25098 non-null  float64       \n",
      " 14  picking_assignable_time_v2     25098 non-null  datetime64[ns]\n",
      " 15  assignable_time                25098 non-null  float64       \n",
      " 16  pa_hour                        25098 non-null  int64         \n",
      " 17  pa_min                         25098 non-null  int64         \n",
      " 18  pa_slot                        25098 non-null  object        \n",
      " 19  key                            25098 non-null  object        \n",
      " 20  ur                             25098 non-null  float64       \n",
      " 21  zona                           25098 non-null  object        \n",
      " 22  half_assignation               25098 non-null  float64       \n",
      " 23  picking_type                   25098 non-null  object        \n",
      " 24  on_demand                      25098 non-null  object        \n",
      " 25  asap                           25098 non-null  object        \n",
      " 26  promised_min                   25098 non-null  float64       \n",
      "dtypes: datetime64[ns](4), float64(6), int64(7), object(10)\n",
      "memory usage: 5.4+ MB\n"
     ]
    }
   ],
   "source": [
    "br_filter.info()"
   ]
  },
  {
   "cell_type": "code",
   "execution_count": 142,
   "metadata": {},
   "outputs": [],
   "source": [
    "br_filter = br_filter[br_filter['picking_type'] == 'Picker-Driver'] #Use only single orders"
   ]
  },
  {
   "cell_type": "code",
   "execution_count": 152,
   "metadata": {},
   "outputs": [
    {
     "data": {
      "text/plain": [
       "<AxesSubplot:xlabel='products'>"
      ]
     },
     "execution_count": 152,
     "metadata": {},
     "output_type": "execute_result"
    },
    {
     "data": {
      "image/png": "[encoded data removed]",
      "text/plain": [
       "<Figure size 432x288 with 1 Axes>"
      ]
     },
     "metadata": {
      "needs_background": "light"
     },
     "output_type": "display_data"
    }
   ],
   "source": [
    "pd.pivot_table(data = br_filter[br_filter.delivery_result == 'Late']\n",
    "              , index = 'products'\n",
    "              , columns = 'on_demand'\n",
    "              , values = 'assignable_time'\n",
    "              , aggfunc = 'count'\n",
    "              ).plot()"
   ]
  }
 ],
 "metadata": {
  "kernelspec": {
   "display_name": "Python 3",
   "language": "python",
   "name": "python3"
  },
  "language_info": {
   "codemirror_mode": {
    "name": "ipython",
    "version": 3
   },
   "file_extension": ".py",
   "mimetype": "text/x-python",
   "name": "python",
   "nbconvert_exporter": "python",
   "pygments_lexer": "ipython3",
   "version": "3.9.2"
  }
 },
 "nbformat": 4,
 "nbformat_minor": 4
}